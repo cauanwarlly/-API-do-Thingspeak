{
 "cells": [
  {
   "cell_type": "code",
   "execution_count": 4,
   "id": "0bf4318b",
   "metadata": {},
   "outputs": [],
   "source": [
    "import requests"
   ]
  },
  {
   "cell_type": "code",
   "execution_count": 5,
   "id": "7344833e",
   "metadata": {},
   "outputs": [],
   "source": [
    "\n",
    "# Substitua pelos seus valores\n",
    "channel_id = \"2943258\"\n",
    "api_key = \"G3BDQS6I5PRGFEWR\"  # Chave de leitura, não a de escrita\n",
    "url = f\"https://api.thingspeak.com/channels/{channel_id}/feeds.json?api_key={api_key}&results=2\" # Obter os 2 últimos resultados\n",
    " "
   ]
  },
  {
   "cell_type": "code",
   "execution_count": null,
   "id": "690c77ce",
   "metadata": {},
   "outputs": [
    {
     "name": "stdout",
     "output_type": "stream",
     "text": [
      " Entry ID: 25932, Field1: 141.00000\n",
      " Entry ID: 25933, Field1: 196.00000\n"
     ]
    }
   ],
   "source": [
    "try:\n",
    "    response = requests.get(url)\n",
    "    response.raise_for_status()  # Lança um erro para códigos de status ruins (4xx ou 5xx)\n",
    "    data = response.json() # Converte a resposta JSON para um dicionário Python\n",
    "    #print(data) # Imprime os dados lidos\n",
    "    # Agora você pode processar os dados do dicionário 'data'\n",
    "    # Por exemplo, para ver os dados do field1:\n",
    "    if data['feeds']:\n",
    "        for entry in data['feeds']:\n",
    "            print(f\" Entry ID: {entry['entry_id']}, Field1: {entry['field1']}\")\n",
    " \n",
    "except requests.exceptions.RequestException as e:\n",
    "    print(f\"Erro ao fazer a requisição: {e}\")\n",
    "    \n",
    "   "
   ]
  },
  {
   "cell_type": "code",
   "execution_count": null,
   "id": "9d45f38a",
   "metadata": {},
   "outputs": [],
   "source": []
  }
 ],
 "metadata": {
  "kernelspec": {
   "display_name": ".venv",
   "language": "python",
   "name": "python3"
  },
  "language_info": {
   "codemirror_mode": {
    "name": "ipython",
    "version": 3
   },
   "file_extension": ".py",
   "mimetype": "text/x-python",
   "name": "python",
   "nbconvert_exporter": "python",
   "pygments_lexer": "ipython3",
   "version": "3.12.10"
  }
 },
 "nbformat": 4,
 "nbformat_minor": 5
}
